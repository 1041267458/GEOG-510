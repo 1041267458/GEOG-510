{
  "cells": [
    {
      "cell_type": "markdown",
      "metadata": {
        "id": "view-in-github",
        "colab_type": "text"
      },
      "source": [
        "<a href=\"https://colab.research.google.com/github/Feng96/GEOG-510/blob/main/Copy_of_lab4.ipynb\" target=\"_parent\"><img src=\"https://colab.research.google.com/assets/colab-badge.svg\" alt=\"Open In Colab\"/></a>"
      ]
    },
    {
      "cell_type": "markdown",
      "id": "beb550f5",
      "metadata": {
        "id": "beb550f5"
      },
      "source": [
        "# Lab 4\n",
        "\n",
        "[![image](https://colab.research.google.com/assets/colab-badge.svg)](https://colab.research.google.com/github/giswqs/geosdemo/blob/master/docs/labs/lab4.ipynb)\n",
        "\n",
        "## Submission instructions\n",
        "\n",
        "1. Download the notebook from https://geosdemo.gishub.org/labs/lab4\n",
        "2. Complete the lab questions\n",
        "3. Restart Kernel and Run All Cells\n",
        "4. Upload the notebook to your GitHub repository\n",
        "5. Make sure the notebook has an `Open In Colab` badge. Click on the badge to make sure your notebook can be opened in Colab.\n",
        "6. Submit the link to the notebook on your GitHub repository to Canvas"
      ]
    },
    {
      "cell_type": "code",
      "execution_count": null,
      "id": "bfc1ddc5",
      "metadata": {
        "vscode": {
          "languageId": "python"
        },
        "id": "bfc1ddc5",
        "outputId": "0171a314-950a-4775-dcb1-aff19859c027",
        "colab": {
          "base_uri": "https://localhost:8080/"
        }
      },
      "outputs": [
        {
          "output_type": "stream",
          "name": "stdout",
          "text": [
            "Submitted time: 2023-03-02 15:07:39.493073\n"
          ]
        }
      ],
      "source": [
        "from datetime import datetime\n",
        "\n",
        "now = datetime.now()\n",
        "print(f\"Submitted time: {now}\")"
      ]
    },
    {
      "cell_type": "markdown",
      "id": "7e96934a",
      "metadata": {
        "id": "7e96934a"
      },
      "source": [
        "## Question 1\n",
        "\n",
        "**Personal Message:** Use a variable to represent a person’s name, and print a message to that person. Your message should be simple, such as, “Hello Eric, would you like to learn some Python today?”"
      ]
    },
    {
      "cell_type": "code",
      "execution_count": null,
      "id": "063a8cb4",
      "metadata": {
        "vscode": {
          "languageId": "python"
        },
        "id": "063a8cb4",
        "outputId": "158be138-d869-409a-8960-540f3e990ff3",
        "colab": {
          "base_uri": "https://localhost:8080/"
        }
      },
      "outputs": [
        {
          "output_type": "stream",
          "name": "stdout",
          "text": [
            "The FIFA best player goes to Messi, congrats!\n"
          ]
        }
      ],
      "source": [
        "name = 'Messi'\n",
        "message = f\"The FIFA best player goes to {name}, congrats!\"\n",
        "print(message)"
      ]
    },
    {
      "cell_type": "markdown",
      "id": "83c4c9e9",
      "metadata": {
        "id": "83c4c9e9"
      },
      "source": [
        "## Question 2\n",
        "\n",
        "**Name Cases:** Use a variable to represent a person’s name, and then print that person’s name in lowercase, uppercase, and title case."
      ]
    },
    {
      "cell_type": "code",
      "execution_count": null,
      "id": "35cfbbec",
      "metadata": {
        "vscode": {
          "languageId": "python"
        },
        "id": "35cfbbec",
        "outputId": "89b55e89-c8de-483e-f53f-2c01640fdc05",
        "colab": {
          "base_uri": "https://localhost:8080/"
        }
      },
      "outputs": [
        {
          "output_type": "stream",
          "name": "stdout",
          "text": [
            "messi MESSI Messi\n"
          ]
        }
      ],
      "source": [
        "name = 'Messi'\n",
        "print(name.lower(),name.upper(),name.title())"
      ]
    },
    {
      "cell_type": "markdown",
      "id": "8c8e92e4",
      "metadata": {
        "id": "8c8e92e4"
      },
      "source": [
        "## Question 3\n",
        "\n",
        "**Famous Quote:** Find a quote from a famous person you admire. Print the quote and the name of its author. Your output should look something like the following, including the quotation marks:\n",
        "\n",
        "```\n",
        "Albert Einstein once said, “A person who never made a mistake never tried anything new.”\n",
        "```"
      ]
    },
    {
      "cell_type": "code",
      "execution_count": null,
      "id": "3bed6cb5",
      "metadata": {
        "vscode": {
          "languageId": "python"
        },
        "id": "3bed6cb5",
        "outputId": "1188b1ca-6434-4bf6-ae31-6f5782b8406a",
        "colab": {
          "base_uri": "https://localhost:8080/"
        }
      },
      "outputs": [
        {
          "output_type": "stream",
          "name": "stdout",
          "text": [
            "Albert Einstein once said, “A person who never made a mistake never tried anything new.”\n"
          ]
        }
      ],
      "source": [
        "print('Albert Einstein once said, “A person who never made a mistake never tried anything new.”')"
      ]
    },
    {
      "cell_type": "markdown",
      "id": "4b46d366",
      "metadata": {
        "id": "4b46d366"
      },
      "source": [
        "## Question 4\n",
        "\n",
        "**Stripping Names:** Use a variable to represent a person’s name, and include some whitespace characters at the beginning and end of the name. Make sure you use each character combination, \"\\t\" and \"\\n\", at least once.\n",
        "Print the name once, so the whitespace around the name is displayed. Then print the name using each of the three stripping functions, lstrip(), rstrip(), and strip()."
      ]
    },
    {
      "cell_type": "code",
      "execution_count": null,
      "id": "bb5dbb0f",
      "metadata": {
        "vscode": {
          "languageId": "python"
        },
        "id": "bb5dbb0f"
      },
      "outputs": [],
      "source": []
    },
    {
      "cell_type": "markdown",
      "id": "32cce0d9",
      "metadata": {
        "id": "32cce0d9"
      },
      "source": [
        "## Question 5\n",
        "\n",
        "**Names:** Store the names of a few of your friends in a list called names. Print\n",
        "each person’s name by accessing each element in the list, one at a time."
      ]
    },
    {
      "cell_type": "code",
      "execution_count": null,
      "id": "13da6459",
      "metadata": {
        "vscode": {
          "languageId": "python"
        },
        "id": "13da6459"
      },
      "outputs": [],
      "source": []
    },
    {
      "cell_type": "markdown",
      "id": "aaaa5c8f",
      "metadata": {
        "id": "aaaa5c8f"
      },
      "source": [
        "## Question 6\n",
        "\n",
        "**Your Own List:** Think of your favorite mode of transportation, such as a motorcycle or a car, and make a list that stores several examples. Use your list to print a series of statements about these items, such as “I would like to own a Honda motorcycle.”"
      ]
    },
    {
      "cell_type": "code",
      "execution_count": null,
      "id": "eba0829e",
      "metadata": {
        "vscode": {
          "languageId": "python"
        },
        "id": "eba0829e"
      },
      "outputs": [],
      "source": []
    },
    {
      "cell_type": "markdown",
      "id": "e4b4452f",
      "metadata": {
        "id": "e4b4452f"
      },
      "source": [
        "## Question 7\n",
        "\n",
        "**Pizzas:** Think of at least three kinds of your favorite pizza. Store these pizza names in a list, and then use a for loop to print the name of each pizza.\n",
        "\n",
        "Modify your for loop to print a sentence using the name of the pizza instead of printing just the name of the pizza. For each pizza you should have one line of output containing a simple statement like _I like pepperoni pizza._"
      ]
    },
    {
      "cell_type": "code",
      "execution_count": null,
      "id": "37cdb68e",
      "metadata": {
        "vscode": {
          "languageId": "python"
        },
        "id": "37cdb68e"
      },
      "outputs": [],
      "source": []
    },
    {
      "cell_type": "markdown",
      "id": "b3b70e8e",
      "metadata": {
        "id": "b3b70e8e"
      },
      "source": [
        "Add a line at the end of your program, outside the for loop, that states how much you like pizza. The output should consist of three or more lines about the kinds of pizza you like and then an additional sentence, such as _I really love pizza!_"
      ]
    },
    {
      "cell_type": "code",
      "execution_count": null,
      "id": "11b4528c",
      "metadata": {
        "vscode": {
          "languageId": "python"
        },
        "id": "11b4528c"
      },
      "outputs": [],
      "source": []
    },
    {
      "cell_type": "markdown",
      "id": "6e42f992",
      "metadata": {
        "id": "6e42f992"
      },
      "source": [
        "## Question 8\n",
        "\n",
        "**Animals:** Think of at least three different animals that have a common characteristic. Store the names of these animals in a list, and then use a for loop to print out the name of each animal.\n",
        "\n",
        "Modify your program to print a statement about each animal, such as _A dog would make a great pet._"
      ]
    },
    {
      "cell_type": "code",
      "execution_count": null,
      "id": "7489fb55",
      "metadata": {
        "vscode": {
          "languageId": "python"
        },
        "id": "7489fb55"
      },
      "outputs": [],
      "source": []
    },
    {
      "cell_type": "markdown",
      "id": "b4484392",
      "metadata": {
        "id": "b4484392"
      },
      "source": [
        "Add a line at the end of your program stating what these animals have in common. You could print a sentence such as _Any of these animals would make a great pet!_"
      ]
    },
    {
      "cell_type": "code",
      "execution_count": null,
      "id": "eb9f8e19",
      "metadata": {
        "vscode": {
          "languageId": "python"
        },
        "id": "eb9f8e19"
      },
      "outputs": [],
      "source": []
    },
    {
      "cell_type": "markdown",
      "id": "ba99ccb5",
      "metadata": {
        "id": "ba99ccb5"
      },
      "source": [
        "## Question 9\n",
        "\n",
        "**Summing a Hundred:** Make a list of the numbers from one to one hundred, and then use `min()` and `max()` to make sure your list actually starts at one and ends at one hundred. Also, use the sum() function to see how quickly Python can add a hundred numbers."
      ]
    },
    {
      "cell_type": "code",
      "execution_count": null,
      "id": "6c6a27a9",
      "metadata": {
        "vscode": {
          "languageId": "python"
        },
        "id": "6c6a27a9"
      },
      "outputs": [],
      "source": []
    },
    {
      "cell_type": "markdown",
      "id": "d165cd3c",
      "metadata": {
        "id": "d165cd3c"
      },
      "source": [
        "## Question 10\n",
        "\n",
        "**Odd Numbers:** Use the third argument of the `range()` function to make a list of the odd numbers from 1 to 20. Use a `for` loop to print each number."
      ]
    },
    {
      "cell_type": "code",
      "execution_count": null,
      "id": "d276920a",
      "metadata": {
        "vscode": {
          "languageId": "python"
        },
        "id": "d276920a"
      },
      "outputs": [],
      "source": []
    },
    {
      "cell_type": "markdown",
      "id": "9e49d9eb",
      "metadata": {
        "id": "9e49d9eb"
      },
      "source": [
        "## Question 11\n",
        "\n",
        "**Threes:** Make a list of the multiples of 3 from 3 to 30. Use a `for` loop to print the numbers in your list."
      ]
    },
    {
      "cell_type": "code",
      "execution_count": null,
      "id": "4ff24fc6",
      "metadata": {
        "vscode": {
          "languageId": "python"
        },
        "id": "4ff24fc6"
      },
      "outputs": [],
      "source": []
    },
    {
      "cell_type": "markdown",
      "id": "dbcce457",
      "metadata": {
        "id": "dbcce457"
      },
      "source": [
        "## Question 12\n",
        "\n",
        "**Cube Comprehension:** Use a list comprehension to generate a list of the first 10 cubes."
      ]
    },
    {
      "cell_type": "code",
      "execution_count": null,
      "id": "df0901f8",
      "metadata": {
        "vscode": {
          "languageId": "python"
        },
        "id": "df0901f8"
      },
      "outputs": [],
      "source": []
    },
    {
      "cell_type": "markdown",
      "id": "c6946e7b",
      "metadata": {
        "id": "c6946e7b"
      },
      "source": [
        "## Question 13\n",
        "\n",
        "**Slices:** Using one of the programs you wrote in this lab, add several lines to the end of the program that do the following:\n",
        "\n",
        "Print the message _The first three items in the list are:_. Then use a slice to print the first three items from that program’s list."
      ]
    },
    {
      "cell_type": "code",
      "execution_count": null,
      "id": "0e03e488",
      "metadata": {
        "vscode": {
          "languageId": "python"
        },
        "id": "0e03e488"
      },
      "outputs": [],
      "source": []
    },
    {
      "cell_type": "markdown",
      "id": "6f88722c",
      "metadata": {
        "id": "6f88722c"
      },
      "source": [
        "Print the message _Three items from the middle of the list are:_. Use a slice to print three items from the middle of the list."
      ]
    },
    {
      "cell_type": "code",
      "execution_count": null,
      "id": "6859a061",
      "metadata": {
        "vscode": {
          "languageId": "python"
        },
        "id": "6859a061"
      },
      "outputs": [],
      "source": []
    },
    {
      "cell_type": "markdown",
      "id": "0abc8cec",
      "metadata": {
        "id": "0abc8cec"
      },
      "source": [
        "Print the message _The last three items in the list are:_. Use a slice to print the last three items in the list."
      ]
    },
    {
      "cell_type": "code",
      "execution_count": null,
      "id": "64988cac",
      "metadata": {
        "vscode": {
          "languageId": "python"
        },
        "id": "64988cac"
      },
      "outputs": [],
      "source": []
    },
    {
      "cell_type": "markdown",
      "id": "36876b9d",
      "metadata": {
        "id": "36876b9d"
      },
      "source": [
        "## Question 14\n",
        "\n",
        "**Buffet:** A buffet-style restaurant offers only five basic foods. Think of five simple foods, and store them in a tuple.\n",
        "\n",
        "Use a for loop to print each food the restaurant offers."
      ]
    },
    {
      "cell_type": "code",
      "execution_count": null,
      "id": "6f186d8a",
      "metadata": {
        "vscode": {
          "languageId": "python"
        },
        "id": "6f186d8a"
      },
      "outputs": [],
      "source": []
    },
    {
      "cell_type": "markdown",
      "id": "0a6ba7f3",
      "metadata": {
        "id": "0a6ba7f3"
      },
      "source": [
        "The restaurant changes its menu, replacing two of the items with different foods. Add a line that rewrites the tuple, and then use a for loop to print each of the items on the revised menu."
      ]
    },
    {
      "cell_type": "code",
      "execution_count": null,
      "id": "79b11cbc",
      "metadata": {
        "vscode": {
          "languageId": "python"
        },
        "id": "79b11cbc"
      },
      "outputs": [],
      "source": []
    },
    {
      "cell_type": "markdown",
      "id": "337ac27d",
      "metadata": {
        "id": "337ac27d"
      },
      "source": [
        "## Question 15\n",
        "\n",
        "**Alien Colors:** Imagine an alien was just shot down in a game. Create a variable called `alien_color` and assign it a value of `green, yellow,` or `red`.\n",
        "\n",
        "-   Write an if statement to test whether the alien’s color is green. If it is, print a message that the player just earned 5 points.\n",
        "-   Write one version of this program that passes the if test and another that fails. (The version that fails will have no output.)"
      ]
    },
    {
      "cell_type": "code",
      "execution_count": null,
      "id": "cc3198fa",
      "metadata": {
        "vscode": {
          "languageId": "python"
        },
        "id": "cc3198fa"
      },
      "outputs": [],
      "source": []
    },
    {
      "cell_type": "markdown",
      "id": "57465bab",
      "metadata": {
        "id": "57465bab"
      },
      "source": [
        "## Question 16\n",
        "\n",
        "**Stages of Life:** Write an `if-elif-else` chain that determines a person’s stage of life. Set a value for the variable `age`, and then:\n",
        "\n",
        "-   If the person is less than 2 years old, print a message that the person is a baby.\n",
        "-   If the person is at least 2 years old but less than 4, print a message that the person is a toddler.\n",
        "-   If the person is at least 4 years old but less than 13, print a message that the person is a kid.\n",
        "-   If the person is at least 13 years old but less than 20, print a message that the person is a teenager.\n",
        "-   If the person is at least 20 years old but less than 65, print a message that the person is an adult."
      ]
    },
    {
      "cell_type": "code",
      "execution_count": null,
      "id": "b09c364a",
      "metadata": {
        "vscode": {
          "languageId": "python"
        },
        "id": "b09c364a"
      },
      "outputs": [],
      "source": []
    },
    {
      "cell_type": "markdown",
      "id": "96b3da06",
      "metadata": {
        "id": "96b3da06"
      },
      "source": [
        "## Question 17\n",
        "\n",
        "**Favorite Fruit:** Make a list of your favorite fruits, and then write a series of independent `if` statements that check for certain fruits in your list.\n",
        "\n",
        "-   Make a list of your three favorite fruits and call it favorite_fruits.\n",
        "-   Write five if statements. Each should check whether a certain kind of fruit is in your list. If the fruit is in your list, the if block should print a statement, such as You really like bananas!"
      ]
    },
    {
      "cell_type": "code",
      "execution_count": null,
      "id": "fc58635c",
      "metadata": {
        "vscode": {
          "languageId": "python"
        },
        "id": "fc58635c"
      },
      "outputs": [],
      "source": []
    },
    {
      "cell_type": "markdown",
      "id": "71e4c6f1",
      "metadata": {
        "id": "71e4c6f1"
      },
      "source": [
        "## Question 18\n",
        "\n",
        "**Hello Admin:** Make a list of five or more usernames, including the name `admin`. Imagine you are writing code that will print a greeting to each user after they log in to a website. Loop through the list, and print a greeting to each user:\n",
        "\n",
        "-   If the username is 'admin', print a special greeting, such as _Hello admin, would you like to see a status report?_\n",
        "-   Otherwise, print a generic greeting, such as _Hello Jaden, thank you for logging in again_."
      ]
    },
    {
      "cell_type": "code",
      "execution_count": null,
      "id": "651e8bf2",
      "metadata": {
        "vscode": {
          "languageId": "python"
        },
        "id": "651e8bf2"
      },
      "outputs": [],
      "source": []
    },
    {
      "cell_type": "markdown",
      "id": "fd53a583",
      "metadata": {
        "id": "fd53a583"
      },
      "source": [
        "## Question 19\n",
        "\n",
        "**Checking Usernames:** Do the following to create a program that simulates how websites ensure that everyone has a unique username.\n",
        "\n",
        "-   Make a list of five or more usernames called `current_users`.\n",
        "-   Make another list of five usernames called `new_users`. Make sure one or two of the new usernames are also in the `current_users` list.\n",
        "-   Loop through the `new_users` list to see if each new username has already been used. If it has, print a message that the person will need to enter a new username. If a username has not been used, print a message saying that the username is available.\n",
        "-   Make sure your comparison is case insensitive. If 'John' has been used, 'JOHN' should not be accepted. (To do this, you’ll need to make a copy of `current_users` containing the lowercase versions of all existing users.)"
      ]
    },
    {
      "cell_type": "code",
      "execution_count": null,
      "id": "9f1a4a8d",
      "metadata": {
        "vscode": {
          "languageId": "python"
        },
        "id": "9f1a4a8d",
        "outputId": "6e8e47c1-448d-4ddb-9ebd-802aa5cca5c0",
        "colab": {
          "base_uri": "https://localhost:8080/"
        }
      },
      "outputs": [
        {
          "output_type": "stream",
          "name": "stdout",
          "text": [
            "Sorry! Messi is existed. Please enter another username.\n",
            "The username Rashford is available.\n",
            "Sorry! NEYMAR is existed. Please enter another username.\n",
            "The username Benzema is available.\n",
            "The username mbappe is available.\n"
          ]
        }
      ],
      "source": [
        "current_users = ['messi','monaldo','pele','maradona','neymar']\n",
        "new_users = ['Messi','Rashford','NEYMAR','Benzema','mbappe']\n",
        "\n",
        "for user in new_users:\n",
        "  if user.lower() in current_users:\n",
        "    print(f\"Sorry! {user} is existed. Please enter another username.\")\n",
        "  else:\n",
        "    print(f\"The username {user} is available.\")"
      ]
    },
    {
      "cell_type": "markdown",
      "id": "20f8412b",
      "metadata": {
        "id": "20f8412b"
      },
      "source": [
        "## Question 20\n",
        "\n",
        "**Ordinal Numbers:** Ordinal numbers indicate their position in a list, such as _1st_ or _2nd_. Most ordinal numbers end in _th_, except 1, 2, and 3.\n",
        "\n",
        "-   Store the numbers 1 through 9 in a list.\n",
        "-   Loop through the list.\n",
        "-   Use an `if-elif-else` chain inside the loop to print the proper ordinal ending for each number. Your output should read \"1st 2nd 3rd 4th 5th 6th 7th 8th 9th\", and each result should be on a separate line."
      ]
    },
    {
      "cell_type": "code",
      "execution_count": null,
      "id": "6231e1e4",
      "metadata": {
        "vscode": {
          "languageId": "python"
        },
        "id": "6231e1e4",
        "outputId": "a739de26-b81a-4f70-f897-93ef84e6de60",
        "colab": {
          "base_uri": "https://localhost:8080/"
        }
      },
      "outputs": [
        {
          "output_type": "stream",
          "name": "stdout",
          "text": [
            "1st\n",
            "2nd\n",
            "3rd\n",
            "4th\n",
            "5th\n",
            "6th\n",
            "7th\n",
            "8th\n",
            "9th\n"
          ]
        }
      ],
      "source": [
        "list3 = list(range(1,10))\n",
        "for i in list3:\n",
        "  if i == 1:\n",
        "    ordinal = f\"{i}st\"\n",
        "    print(ordinal)\n",
        "  elif i == 2:\n",
        "    ordinal = f\"{i}nd\"\n",
        "    print(ordinal)\n",
        "  elif i == 3:\n",
        "    ordinal = f\"{i}rd\"\n",
        "    print(ordinal)\n",
        "  else:\n",
        "    ordinal = f\"{i}th\"\n",
        "    print(ordinal)"
      ]
    }
  ],
  "metadata": {
    "kernelspec": {
      "display_name": "Python 3",
      "language": "python",
      "name": "python3"
    },
    "colab": {
      "provenance": [],
      "include_colab_link": true
    }
  },
  "nbformat": 4,
  "nbformat_minor": 5
}
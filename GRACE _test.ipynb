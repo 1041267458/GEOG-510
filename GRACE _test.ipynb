[![Open In Colab](https://colab.research.google.com/assets/colab-badge.svg)](https://colab.research.google.com/drive/17a14uP56xJ24Gqwp7zpfCDSwZNwKhwXP?authuser=1#scrollTo=AVYIiqcJFs0c)

!pip install leafmap
import leafmap
m = leafmap.Map()
m
